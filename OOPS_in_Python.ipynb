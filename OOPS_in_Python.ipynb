{
  "nbformat": 4,
  "nbformat_minor": 0,
  "metadata": {
    "colab": {
      "provenance": []
    },
    "kernelspec": {
      "name": "python3",
      "display_name": "Python 3"
    },
    "language_info": {
      "name": "python"
    }
  },
  "cells": [
    {
      "cell_type": "markdown",
      "source": [
        "# **Theory Question**"
      ],
      "metadata": {
        "id": "YRm_weQo2YX7"
      }
    },
    {
      "cell_type": "markdown",
      "source": [
        "1. What is Object-Oriented Programming (OOP)?\n",
        "\n",
        "-> Object-Oriented Programming (OOP) is a programming paradigm based on the concept of “objects”, which can contain data (called attributes or properties) and code (called methods or functions).\n",
        "\n",
        "-- Key Concepts of OOP:\n",
        "1. Class\n",
        "2. object\n",
        "3. Encapsulation\n",
        "4. Abstraction\n",
        "5. Inheritance\n",
        "6. Polymorphism\n"
      ],
      "metadata": {
        "id": "L9aTiePz2YUc"
      }
    },
    {
      "cell_type": "markdown",
      "source": [
        "2. What is a class in OOP?\n",
        "\n",
        "-->A class defines what an object will be like — what data it will hold (attributes), and what actions it can perform (methods). But the class itself is not an object."
      ],
      "metadata": {
        "id": "RucQWauD2XA2"
      }
    },
    {
      "cell_type": "code",
      "source": [
        "# Example of Class in oop:\n",
        "class Person:\n",
        "  def __init__(self, name, age):\n",
        "    self.name = name\n",
        "    self.age = age\n",
        "\n",
        "p1 = Person(\"Prachi\", 19)\n",
        "\n",
        "print(p1.name)\n",
        "print(p1.age)"
      ],
      "metadata": {
        "colab": {
          "base_uri": "https://localhost:8080/"
        },
        "id": "yVSD7aptBKdV",
        "outputId": "cbdff3d6-706c-4adc-ded1-3a059e886900"
      },
      "execution_count": null,
      "outputs": [
        {
          "output_type": "stream",
          "name": "stdout",
          "text": [
            "Prachi\n",
            "19\n"
          ]
        }
      ]
    },
    {
      "cell_type": "markdown",
      "source": [
        "3. What is an object in OOP?\n",
        "\n",
        "--> In Object-Oriented Programming (OOP), an object is a real-world instance of a class.\n",
        "\n"
      ],
      "metadata": {
        "id": "JocYJkzcBbs1"
      }
    },
    {
      "cell_type": "code",
      "source": [
        "# Example of Object in oop:\n",
        "class Person:\n",
        "  def __init__(self, name, age):\n",
        "    self.name = name\n",
        "    self.age = age\n",
        "\n",
        "p1 = Person(\"Prachi\", 19)\n",
        "\n",
        "print(p1.name)\n",
        "print(p1.age)"
      ],
      "metadata": {
        "colab": {
          "base_uri": "https://localhost:8080/"
        },
        "id": "-3cJ_xDlBtaL",
        "outputId": "57bf4296-dbb7-4b6e-8c80-d89f67c44877"
      },
      "execution_count": null,
      "outputs": [
        {
          "output_type": "stream",
          "name": "stdout",
          "text": [
            "Prachi\n",
            "19\n"
          ]
        }
      ]
    },
    {
      "cell_type": "markdown",
      "source": [
        "4. What is the difference between abstraction and encapsulation?\n",
        "\n",
        "--> Abstraction:- Hides implementation details and shows only what an object does.\n",
        "Purpose:- To simplify usage for the user and reduce complexity.\n",
        "--> Encapsulation:- Hides internal object state and requires access through methods.\n",
        "Purpose:- To protect data and control access to it."
      ],
      "metadata": {
        "id": "IfObja1mCtLa"
      }
    },
    {
      "cell_type": "code",
      "source": [
        "# Example of Abstraction in oop:\n",
        "from abc import ABC, abstractmethod\n",
        "\n",
        "class Animal(ABC):\n",
        "    @abstractmethod\n",
        "    def make_sound(self):\n",
        "        pass\n",
        "\n",
        "class Dog(Animal):\n",
        "    def make_sound(self):\n",
        "        print(\"Woof!\")\n",
        "\n",
        "# User only needs to know that the object makes a sound\n",
        "my_dog = Dog()\n",
        "my_dog.make_sound()  # Output: Woof!\n"
      ],
      "metadata": {
        "colab": {
          "base_uri": "https://localhost:8080/"
        },
        "id": "473iLFZwEkmJ",
        "outputId": "e044c6d8-aae3-4172-aa4b-9c53b0f1e318"
      },
      "execution_count": null,
      "outputs": [
        {
          "output_type": "stream",
          "name": "stdout",
          "text": [
            "Woof!\n"
          ]
        }
      ]
    },
    {
      "cell_type": "code",
      "source": [
        "# Example of Encapsulation in oop:\n",
        "class Person:\n",
        "    def __init__(self, name):\n",
        "        self.__name = name  # private variable\n",
        "\n",
        "    def get_name(self):\n",
        "        return self.__name\n",
        "\n",
        "    def set_name(self, new_name):\n",
        "        self.__name = new_name\n",
        "\n",
        "p = Person(\"Prachi\")\n",
        "print(p.get_name())   # Output: Prachi\n",
        "p.set_name(\"Bob\")\n",
        "print(p.get_name())   # Output: Bob\n",
        "\n"
      ],
      "metadata": {
        "colab": {
          "base_uri": "https://localhost:8080/"
        },
        "id": "Am3OwziqE8ez",
        "outputId": "f6116198-2569-40c8-c020-b18c7c6613ce"
      },
      "execution_count": null,
      "outputs": [
        {
          "output_type": "stream",
          "name": "stdout",
          "text": [
            "Prachi\n",
            "Bob\n"
          ]
        }
      ]
    },
    {
      "cell_type": "markdown",
      "source": [
        "5. What are dunder methods in Python?\n",
        "\n",
        "--> Dunder methods in Python are special methods that have names beginning and ending with double underscores, like __init__, __str__, or __add__.\n",
        "\n",
        "- They are also known as magic methods or special methods, and Python uses them internally to perform built-in operations."
      ],
      "metadata": {
        "id": "Bmx6ZT6hFYM2"
      }
    },
    {
      "cell_type": "code",
      "source": [
        "# Example of dunder methods in oop:\n",
        "class Book:\n",
        "    def __init__(self, title):\n",
        "        self.title = title\n",
        "\n",
        "    def __str__(self):\n",
        "        return f\"Book title: {self.title}\"\n",
        "\n",
        "    def __len__(self):\n",
        "        return len(self.title)\n",
        "\n",
        "book = Book(\"Python Basics\")\n",
        "print(book)        # Calls __str__: Book title: Python Basics\n",
        "print(len(book))   # Calls __len__: 14\n",
        "\n"
      ],
      "metadata": {
        "colab": {
          "base_uri": "https://localhost:8080/"
        },
        "id": "S3M1BAHmFzey",
        "outputId": "18e6b4ca-e5d7-44a5-f0c8-da0920d34aed"
      },
      "execution_count": null,
      "outputs": [
        {
          "output_type": "stream",
          "name": "stdout",
          "text": [
            "Book title: Python Basics\n",
            "13\n"
          ]
        }
      ]
    },
    {
      "cell_type": "markdown",
      "source": [
        "6.  Explain the concept of inheritance in OOP.\n",
        "\n",
        "-> Inheritance is an Object-Oriented Programming (OOP) concept where a child class inherits the properties and behaviors (attributes and methods) of parent class.\n"
      ],
      "metadata": {
        "id": "T4s_PjT-GEQ3"
      }
    },
    {
      "cell_type": "code",
      "source": [
        "# Example of inheritance in oop:\n",
        "# Parent class\n",
        "class Animal:\n",
        "    def speak(self):\n",
        "        print(\"The animal makes a sound\")\n",
        "\n",
        "# Child class\n",
        "class Dog(Animal):\n",
        "    def bark(self):\n",
        "        print(\"The dog barks\")\n",
        "\n",
        "# Create object of Dog\n",
        "d = Dog()\n",
        "d.speak()  # Inherited from Animal\n",
        "d.bark()   # Defined in Dog\n"
      ],
      "metadata": {
        "colab": {
          "base_uri": "https://localhost:8080/"
        },
        "id": "mn3GgCRwGcl-",
        "outputId": "4f3fa9b1-56dc-4c96-d693-4773a38e74e7"
      },
      "execution_count": null,
      "outputs": [
        {
          "output_type": "stream",
          "name": "stdout",
          "text": [
            "The animal makes a sound\n",
            "The dog barks\n"
          ]
        }
      ]
    },
    {
      "cell_type": "markdown",
      "source": [
        "7. What is polymorphism in OOP?\n",
        "-> In Object Oriented Programming, poly means many, and morphism means forms.\n",
        "So, polymorphism means having multiple forms."
      ],
      "metadata": {
        "id": "dB3VwK8iGu4h"
      }
    },
    {
      "cell_type": "code",
      "source": [
        "# Example of polymorphism in oop:\n",
        "class Animal:\n",
        "    def speak(self):\n",
        "        print(\"The animal makes a sound\")\n",
        "\n",
        "class Dog(Animal):\n",
        "    def speak(self):\n",
        "        print(\"Woof!\")\n",
        "\n",
        "class Cat(Animal):\n",
        "    def speak(self):\n",
        "        print(\"Meow!\")\n",
        "\n",
        "# Polymorphism in action\n",
        "def make_animal_speak(animal):\n",
        "    animal.speak()\n",
        "\n",
        "# Different objects, same interface\n",
        "make_animal_speak(Dog())  # Output: Woof!\n",
        "make_animal_speak(Cat())  # Output: Meow!\n"
      ],
      "metadata": {
        "colab": {
          "base_uri": "https://localhost:8080/"
        },
        "id": "hcrVgA_MHKqf",
        "outputId": "c82e513a-6581-40c2-80f7-8195c89a2907"
      },
      "execution_count": 17,
      "outputs": [
        {
          "output_type": "stream",
          "name": "stdout",
          "text": [
            "Woof!\n",
            "Meow!\n"
          ]
        }
      ]
    },
    {
      "cell_type": "markdown",
      "source": [
        "8. How is encapsulation achieved in Python?\n",
        "\n",
        "->\n",
        "Encapsulation in Python is achieved by restricting access to the internal data of an object and controlling it through methods.\n",
        "- This keeps the data safe from direct modification.\n",
        "\n"
      ],
      "metadata": {
        "id": "QtZ5FtZBHTH7"
      }
    },
    {
      "cell_type": "code",
      "source": [
        "# Example of how encapsulation is achieved in python:\n",
        "class Person:\n",
        "    def __init__(self, name, age):\n",
        "        self.__name = name     # private attribute\n",
        "        self.__age = age       # private attribute\n",
        "\n",
        "    # Getter method\n",
        "    def get_age(self):\n",
        "        return self.__age\n",
        "\n",
        "    # Setter method with validation\n",
        "    def set_age(self, new_age):\n",
        "        if new_age >= 0:\n",
        "            self.__age = new_age\n",
        "        else:\n",
        "            print(\"Age can't be negative.\")\n",
        "\n",
        "# Using the class\n",
        "p = Person(\"Alice\", 30)\n",
        "\n",
        "print(p.get_age())   # Accessing with getter: 30\n",
        "p.set_age(35)        # Setting new value\n",
        "print(p.get_age())   # Output: 35\n",
        "\n",
        "p.set_age(-5)        # Invalid update\n"
      ],
      "metadata": {
        "colab": {
          "base_uri": "https://localhost:8080/"
        },
        "id": "H75MkIR9HjdF",
        "outputId": "4a50ab10-d3a7-49b7-e10f-db13eb59a380"
      },
      "execution_count": 19,
      "outputs": [
        {
          "output_type": "stream",
          "name": "stdout",
          "text": [
            "30\n",
            "35\n",
            "Age can't be negative.\n"
          ]
        }
      ]
    },
    {
      "cell_type": "markdown",
      "source": [
        "9. What is a constructor in Python?\n",
        "-> In Python, a constructor is a special method used to initialize a newly created object.\n",
        "It sets up the initial state (values) of the object’s attributes when it's created."
      ],
      "metadata": {
        "id": "lakKpekNHzJq"
      }
    },
    {
      "cell_type": "code",
      "source": [
        "# Example of constructor in python:\n",
        "class Person:\n",
        "    def __init__(self, name, age):\n",
        "        self.name = name\n",
        "        self.age = age"
      ],
      "metadata": {
        "id": "u0ssrxxvIC7d"
      },
      "execution_count": 20,
      "outputs": []
    },
    {
      "cell_type": "markdown",
      "source": [
        "10. What are class and static methods in Python?\n",
        "->\n",
        "Class Methods and Static Methods in Python are both are special methods in a class that don’t behave like regular instance methods.\n",
        "-  They are defined using decorators: @classmethod and @staticmethod."
      ],
      "metadata": {
        "id": "HQtZbd4iILfe"
      }
    },
    {
      "cell_type": "code",
      "source": [
        "# Example of class methods in pyhton:\n",
        "class MyClass:\n",
        "    class_var = 0\n",
        "\n",
        "    @classmethod\n",
        "    def show_class_var(cls):\n",
        "        print(cls.class_var)\n",
        "# Example Usage:\n",
        "class Employee:\n",
        "    company = \"TechCorp\"\n",
        "\n",
        "    @classmethod\n",
        "    def change_company(cls, new_name):\n",
        "        cls.company = new_name\n",
        "\n",
        "print(Employee.company)        # Output: TechCorp\n",
        "Employee.change_company(\"OpenAI\")\n",
        "print(Employee.company)        # Output: OpenAI\n"
      ],
      "metadata": {
        "colab": {
          "base_uri": "https://localhost:8080/"
        },
        "id": "2Go6ZJneTgpd",
        "outputId": "497f4b42-821a-4b2c-d814-65dcb51a0a50"
      },
      "execution_count": 1,
      "outputs": [
        {
          "output_type": "stream",
          "name": "stdout",
          "text": [
            "TechCorp\n",
            "OpenAI\n"
          ]
        }
      ]
    },
    {
      "cell_type": "code",
      "source": [
        "# Example of static methods in python:\n",
        "class MyClass:\n",
        "    @staticmethod\n",
        "    def greet():\n",
        "        print(\"Hello from static method\")\n",
        "# Example Usage:\n",
        "class Math:\n",
        "    @staticmethod\n",
        "    def add(a, b):\n",
        "        return a + b\n",
        "\n",
        "print(Math.add(5, 3))   # Output: 8\n"
      ],
      "metadata": {
        "colab": {
          "base_uri": "https://localhost:8080/"
        },
        "id": "ShpTb0p_UPEl",
        "outputId": "7b47b585-641e-4157-e8e1-abdff6fdafc7"
      },
      "execution_count": 2,
      "outputs": [
        {
          "output_type": "stream",
          "name": "stdout",
          "text": [
            "8\n"
          ]
        }
      ]
    },
    {
      "cell_type": "markdown",
      "source": [
        " 11. What is method overloading in Python?\n",
        "\n",
        " --> Method overloading is the ability to define multiple methods with the same name but different arguments (number or type).\n"
      ],
      "metadata": {
        "id": "6KWzg8KXUben"
      }
    },
    {
      "cell_type": "code",
      "source": [
        "# Example of method overloading in oop:\n",
        "class Greet:\n",
        "    def hello(self, name=None):\n",
        "        if name:\n",
        "            print(f\"Hello, {name}!\")\n",
        "        else:\n",
        "            print(\"Hello!\")\n",
        "\n",
        "g = Greet()\n",
        "g.hello()           # Output: Hello!\n",
        "g.hello(\"Prachi\")   # Output: Hello, Prachi!\n"
      ],
      "metadata": {
        "colab": {
          "base_uri": "https://localhost:8080/"
        },
        "id": "NrsF5uzMVCO1",
        "outputId": "bd8ac62d-9bad-4a7d-b93f-111f8d7797e4"
      },
      "execution_count": 3,
      "outputs": [
        {
          "output_type": "stream",
          "name": "stdout",
          "text": [
            "Hello!\n",
            "Hello, Prachi!\n"
          ]
        }
      ]
    },
    {
      "cell_type": "markdown",
      "source": [
        "12. What is method overriding in OOP?\n",
        "\n",
        "-->\n",
        "Method overriding in Object-Oriented Programming (OOP) occurs when a subclass provides a specific implementation of a method that is already defined in its superclass.\n",
        "\n",
        "The overridden method in the child class must have the same name, parameters, and behavior as in the parent class."
      ],
      "metadata": {
        "id": "w5c4Violfdn2"
      }
    },
    {
      "cell_type": "code",
      "source": [
        "# example of method overriding:\n",
        "class Animal:\n",
        "    def speak(self):\n",
        "        print(\"Animal speaks\")\n",
        "\n",
        "class Dog(Animal):\n",
        "    def speak(self):  # Overriding the 'speak' method\n",
        "        print(\"Dog barks\")\n",
        "\n",
        "# Create objects\n",
        "a = Animal()\n",
        "d = Dog()\n",
        "\n",
        "a.speak()  # Output: Animal speaks\n",
        "d.speak()  # Output: Dog barks\n"
      ],
      "metadata": {
        "colab": {
          "base_uri": "https://localhost:8080/"
        },
        "id": "kDQOIISVf3dZ",
        "outputId": "895c4d6b-fcf6-4d23-f8f3-e30cf652d70b"
      },
      "execution_count": 5,
      "outputs": [
        {
          "output_type": "stream",
          "name": "stdout",
          "text": [
            "Animal speaks\n",
            "Dog barks\n"
          ]
        }
      ]
    },
    {
      "cell_type": "markdown",
      "source": [
        "13. What is a property decorator in Python?\n",
        "\n",
        "-> The @property decorator in Python is used to define getter methods in a class, allowing you to access methods like attributes—without using parentheses.\n",
        "- It helps implement encapsulation, providing controlled access to instance variables."
      ],
      "metadata": {
        "id": "Nxc-T2FMgDUr"
      }
    },
    {
      "cell_type": "code",
      "source": [
        "# Example of property decorator:\n",
        "class Circle:\n",
        "    def __init__(self, radius):\n",
        "        self._radius = radius\n",
        "\n",
        "    @property\n",
        "    def area(self):\n",
        "        return 3.14 * self._radius * self._radius\n",
        "\n",
        "c = Circle(5)\n",
        "print(c.area)  # Output: 78.5\n"
      ],
      "metadata": {
        "colab": {
          "base_uri": "https://localhost:8080/"
        },
        "id": "g1LN7ny_g2Cr",
        "outputId": "32e59e32-5955-47fb-9c7f-a9324bff5195"
      },
      "execution_count": 6,
      "outputs": [
        {
          "output_type": "stream",
          "name": "stdout",
          "text": [
            "78.5\n"
          ]
        }
      ]
    },
    {
      "cell_type": "markdown",
      "source": [
        "14. Why is polymorphism important in OOP?\n",
        "-->\n",
        "It allows objects of different classes to be treated as objects of a common superclass, especially when they share the same interface (e.g., method names).\n",
        "- Importance of polymorphism:\n",
        "1. Code Reuseability.\n",
        "2. Flexibility.\n",
        "3. Simplifies Code.\n",
        "4. 4. Enables Runtime Behavior Change."
      ],
      "metadata": {
        "id": "Uk5-7QwShay0"
      }
    },
    {
      "cell_type": "markdown",
      "source": [
        "15. What is an abstract class in Python?\n",
        "\n",
        "-->\n",
        "An abstract class in Python is a class that cannot be instantiated and is used to define a common interface for its subclasses.\n",
        "- It can contain abstract methods (methods without implementation), which must be implemented by any subclass.\n",
        "\n",
        "- Defined using the abc module with @abstractmethod decorator.\n"
      ],
      "metadata": {
        "id": "DoTrOTwev_oV"
      }
    },
    {
      "cell_type": "code",
      "source": [
        "# Example of abstract method:\n",
        "from abc import ABC, abstractmethod\n",
        "\n",
        "class Shape(ABC):\n",
        "    @abstractmethod\n",
        "    def area(self):\n",
        "        pass"
      ],
      "metadata": {
        "id": "Dw5IAfuHwfqb"
      },
      "execution_count": 3,
      "outputs": []
    },
    {
      "cell_type": "markdown",
      "source": [
        "16. What are the advantages of OOP?\n",
        "\n",
        "-> Advantages of oop are:-\n",
        "- Modularity\n",
        "- Reuseability\n",
        "- Encapsulation\n",
        "- Abstraction\n",
        "- Polymorphism\n",
        "- Scalability"
      ],
      "metadata": {
        "id": "Nnl_-GrSwmbD"
      }
    },
    {
      "cell_type": "markdown",
      "source": [
        "17. What is the difference between a class variable and an instance variable?\n",
        "\n",
        "-->\n",
        "- Class Variable\n",
        "Shared by all instances of the class.\n",
        "Defined inside the class, but outside any method.\n",
        "Changing it affects all instances (unless overridden).\n",
        "\n",
        "-->\n",
        "- Instance Variable\n",
        "Unique to each instance (object).\n",
        "Defined inside methods, usually inside __init__() using self.\n",
        "Changing it affects only that specific object."
      ],
      "metadata": {
        "id": "sBGnOIp9xZps"
      }
    },
    {
      "cell_type": "code",
      "source": [
        "# Example of class variable and instance variable:\n",
        "class Dog:\n",
        "    species = \"Canine\"  # Class variable\n",
        "\n",
        "    def __init__(self, name):\n",
        "        self.name = name  # Instance variable\n",
        "\n",
        "# Create two instances\n",
        "dog1 = Dog(\"Buddy\")\n",
        "dog2 = Dog(\"Charlie\")\n",
        "\n",
        "print(dog1.species)  # Canine\n",
        "print(dog2.species)  # Canine\n",
        "\n",
        "print(dog1.name)     # Buddy\n",
        "print(dog2.name)     # Charlie\n",
        "\n",
        "# Modify class variable\n",
        "Dog.species = \"Mammal\"\n",
        "\n",
        "print(dog1.species)  # Mammal\n",
        "print(dog2.species)  # Mammal\n",
        "\n",
        "# Modify instance variable\n",
        "dog1.name = \"Rocky\"\n",
        "\n",
        "print(dog1.name)     # Rocky\n",
        "print(dog2.name)     # Charlie\n"
      ],
      "metadata": {
        "colab": {
          "base_uri": "https://localhost:8080/"
        },
        "id": "kZUFP4VyxwOE",
        "outputId": "3057a42f-f553-4621-87cf-0c628f149ee9"
      },
      "execution_count": 4,
      "outputs": [
        {
          "output_type": "stream",
          "name": "stdout",
          "text": [
            "Canine\n",
            "Canine\n",
            "Buddy\n",
            "Charlie\n",
            "Mammal\n",
            "Mammal\n",
            "Rocky\n",
            "Charlie\n"
          ]
        }
      ]
    },
    {
      "cell_type": "markdown",
      "source": [
        "18. What is multiple inheritance in Python?\n",
        "\n",
        "--> Multiple inheritance means a class can inherit from more than one parent class. The child class gets the attributes and methods from all the parent classes."
      ],
      "metadata": {
        "id": "j4MIDDP7x7Ox"
      }
    },
    {
      "cell_type": "code",
      "source": [
        "# Example of multiple inheritance:\n",
        "class A:\n",
        "    def method_A(self):\n",
        "        print(\"Method from class A\")\n",
        "\n",
        "class B:\n",
        "    def method_B(self):\n",
        "        print(\"Method from class B\")\n",
        "\n",
        "class C(A, B):  # Class C inherits from both A and B\n",
        "    pass\n",
        "\n",
        "obj = C()\n",
        "obj.method_A()  # Output: Method from class A\n",
        "obj.method_B()  # Output: Method from class B\n"
      ],
      "metadata": {
        "colab": {
          "base_uri": "https://localhost:8080/"
        },
        "id": "FRcVT09ZyJVY",
        "outputId": "8307b021-5cc3-42e5-8203-3d76d8d14e2c"
      },
      "execution_count": 5,
      "outputs": [
        {
          "output_type": "stream",
          "name": "stdout",
          "text": [
            "Method from class A\n",
            "Method from class B\n"
          ]
        }
      ]
    },
    {
      "cell_type": "markdown",
      "source": [
        "19. Explain the purpose of ‘’__str__’ and ‘__repr__’ ‘ methods in Python?\n",
        "\n",
        "-->\n",
        "- __str__(self)\n",
        "Used by the str() function and print().\n",
        "Meant to return a user-friendly string.\n",
        "\n",
        "-->\n",
        "- __repr__(self)\n",
        "Used by the repr() function and in debugging, logs, or the Python shell.\n",
        "Meant to return an unambiguous string that can be used to recreate the object, if possible."
      ],
      "metadata": {
        "id": "oJks8L2CyOym"
      }
    },
    {
      "cell_type": "code",
      "source": [
        "# example of str(self):\n",
        "class Person:\n",
        "    def __init__(self, name):\n",
        "        self.name = name\n",
        "\n",
        "    def __str__(self):\n",
        "        return f\"My name is {self.name}\"\n",
        "\n",
        "p = Person(\"Alice\")\n",
        "print(p)  # Output: My name is Alice\n",
        "\n"
      ],
      "metadata": {
        "colab": {
          "base_uri": "https://localhost:8080/"
        },
        "id": "Oben_SpgyidI",
        "outputId": "f6209274-be4a-4f16-a901-d7cf1c8806cd"
      },
      "execution_count": 7,
      "outputs": [
        {
          "output_type": "stream",
          "name": "stdout",
          "text": [
            "My name is Alice\n"
          ]
        }
      ]
    },
    {
      "cell_type": "code",
      "source": [
        "# example of repr():\n",
        "class Person:\n",
        "    def __init__(self, name):\n",
        "        self.name = name\n",
        "\n",
        "    def __repr__(self):\n",
        "        return f\"Person('{self.name}')\"\n",
        "\n",
        "p = Person(\"Alice\")\n",
        "print(repr(p))  # Output: Person('Alice')\n"
      ],
      "metadata": {
        "colab": {
          "base_uri": "https://localhost:8080/"
        },
        "id": "nJ32FsGnyrC8",
        "outputId": "515be8dd-4983-41e9-8469-2142e2d750c0"
      },
      "execution_count": 9,
      "outputs": [
        {
          "output_type": "stream",
          "name": "stdout",
          "text": [
            "Person('Alice')\n"
          ]
        }
      ]
    },
    {
      "cell_type": "markdown",
      "source": [
        "20. What is the significance of the ‘super()’ function in Python?\n",
        "\n",
        "--> The super() function in Python is used to call methods from a parent (super) class. It allows a subclass to access and extend the functionality of its superclass without explicitly naming it."
      ],
      "metadata": {
        "id": "9V3s_uEzy7jE"
      }
    },
    {
      "cell_type": "code",
      "source": [
        "# Example of super():\n",
        "class Animal:\n",
        "    def __init__(self, name):\n",
        "        self.name = name\n",
        "        print(\"Animal created\")\n",
        "\n",
        "class Dog(Animal):\n",
        "    def __init__(self, name, breed):\n",
        "        super().__init__(name)  # Call parent class constructor\n",
        "        self.breed = breed\n",
        "        print(\"Dog created\")\n",
        "\n",
        "d = Dog(\"Buddy\", \"Labrador\")\n"
      ],
      "metadata": {
        "colab": {
          "base_uri": "https://localhost:8080/"
        },
        "id": "jUE9VFJIzDZf",
        "outputId": "07e0b930-9c4e-4690-828a-71f557517c0c"
      },
      "execution_count": 10,
      "outputs": [
        {
          "output_type": "stream",
          "name": "stdout",
          "text": [
            "Animal created\n",
            "Dog created\n"
          ]
        }
      ]
    },
    {
      "cell_type": "markdown",
      "source": [
        "21. What is the significance of the __del__ method in Python?\n",
        "-->The __del__ method in Python is a special method called a destructor. It is automatically invoked when an object is about to be destroyed, usually when there are no more references to the object."
      ],
      "metadata": {
        "id": "WpCqVZyuzK-S"
      }
    },
    {
      "cell_type": "code",
      "source": [
        "# Example of __del__ method:\n",
        "class Person:\n",
        "    def __init__(self, name):\n",
        "        self.name = name\n",
        "\n",
        "    def __del__(self):\n",
        "        print(f\"{self.name} has been deleted\")\n",
        "\n",
        "p = Person(\"Alice\")\n",
        "del p  # Output: Alice has been deleted"
      ],
      "metadata": {
        "colab": {
          "base_uri": "https://localhost:8080/"
        },
        "id": "_qoBs0O9zKXX",
        "outputId": "2f4bf84f-ef3b-447b-8510-da7c70d14b68"
      },
      "execution_count": 11,
      "outputs": [
        {
          "output_type": "stream",
          "name": "stdout",
          "text": [
            "Alice has been deleted\n"
          ]
        }
      ]
    },
    {
      "cell_type": "markdown",
      "source": [
        "22. What is the difference between @staticmethod and @classmethod in Python?\n",
        "\n",
        "-->\n",
        "- @staticmethod\n",
        "Doesn't take self or cls as the first argument.\n",
        "Behaves like a regular function, just inside a class.\n",
        "Cannot access or modify class or instance data.\n",
        "\n",
        "- @classmethod\n",
        "Takes cls (not self) as the first argument.\n",
        "Can access and modify class variables.\n",
        "Often used for factory methods."
      ],
      "metadata": {
        "id": "JnLRJmqX0azb"
      }
    },
    {
      "cell_type": "code",
      "source": [
        "# example of @staticmethod:\n",
        "class Math:\n",
        "    @staticmethod\n",
        "    def add(x, y):\n",
        "        return x + y\n",
        "\n",
        "print(Math.add(5, 3))  # Output: 8\n"
      ],
      "metadata": {
        "colab": {
          "base_uri": "https://localhost:8080/"
        },
        "id": "PVF6Wgy201Nh",
        "outputId": "5b949c35-d705-4aa3-b586-dda7f1b8c793"
      },
      "execution_count": 12,
      "outputs": [
        {
          "output_type": "stream",
          "name": "stdout",
          "text": [
            "8\n"
          ]
        }
      ]
    },
    {
      "cell_type": "code",
      "source": [
        "# Example of @classmethod:\n",
        "class Person:\n",
        "    count = 0\n",
        "\n",
        "    def __init__(self, name):\n",
        "        self.name = name\n",
        "        Person.count += 1\n",
        "\n",
        "    @classmethod\n",
        "    def total_people(cls):\n",
        "        return cls.count\n",
        "\n",
        "p1 = Person(\"Alice\")\n",
        "p2 = Person(\"Bob\")\n",
        "\n",
        "print(Person.total_people())  # Output: 2\n"
      ],
      "metadata": {
        "colab": {
          "base_uri": "https://localhost:8080/"
        },
        "id": "1ra-v-qC09AK",
        "outputId": "6fd4ca06-45a2-4619-8ba9-fea37bc8f3e6"
      },
      "execution_count": 13,
      "outputs": [
        {
          "output_type": "stream",
          "name": "stdout",
          "text": [
            "2\n"
          ]
        }
      ]
    },
    {
      "cell_type": "markdown",
      "source": [
        "23. How does polymorphism work in Python with inheritance?\n",
        "-->\n",
        "Polymorphism allows objects of different classes to be treated using a common interface, -especially when they share a parent class through inheritance.\n",
        "In simple terms:- Same method name, different behaviors, depending on the object."
      ],
      "metadata": {
        "id": "vG0rlic81DoU"
      }
    },
    {
      "cell_type": "code",
      "source": [
        "# example of  how does a polymorphism works with inheritance:\n",
        "class Animal:\n",
        "    def speak(self):\n",
        "        print(\"Animal makes a sound\")\n",
        "\n",
        "class Dog(Animal):\n",
        "    def speak(self):\n",
        "        print(\"Dog barks\")\n",
        "\n",
        "class Cat(Animal):\n",
        "    def speak(self):\n",
        "        print(\"Cat meows\")\n",
        "\n",
        "# Polymorphism in action\n",
        "def make_animal_speak(animal):\n",
        "    animal.speak()  # Calls the right method depending on the object\n",
        "\n",
        "a = Animal()\n",
        "d = Dog()\n",
        "c = Cat()\n",
        "\n",
        "make_animal_speak(a)  # Output: Animal makes a sound\n",
        "make_animal_speak(d)  # Output: Dog barks\n",
        "make_animal_speak(c)  # Output: Cat meows\n"
      ],
      "metadata": {
        "colab": {
          "base_uri": "https://localhost:8080/"
        },
        "id": "ZAQkvmLq1VUx",
        "outputId": "ae9717dd-bd74-44f4-cf45-61bc096f7df5"
      },
      "execution_count": 15,
      "outputs": [
        {
          "output_type": "stream",
          "name": "stdout",
          "text": [
            "Animal makes a sound\n",
            "Dog barks\n",
            "Cat meows\n"
          ]
        }
      ]
    },
    {
      "cell_type": "markdown",
      "source": [
        "24. What is method chaining in Python OOP?\n",
        "-->Method chaining in Python is a technique where multiple methods are called on the same object in a single line, one after another.\n",
        "-  This works by having each method return the object itself (self), allowing the next method to be called on it.\n"
      ],
      "metadata": {
        "id": "MAZx3Igf1ib8"
      }
    },
    {
      "cell_type": "code",
      "source": [
        "# Example of  method chaining:\n",
        "class Person:\n",
        "    def __init__(self, name):\n",
        "        self.name = name\n",
        "        self.age = None\n",
        "        self.city = None\n",
        "\n",
        "    def set_age(self, age):\n",
        "        self.age = age\n",
        "        return self  # enables chaining\n",
        "\n",
        "    def set_city(self, city):\n",
        "        self.city = city\n",
        "        return self  # enables chaining\n",
        "\n",
        "    def show(self):\n",
        "        print(f\"Name: {self.name}, Age: {self.age}, City: {self.city}\")\n",
        "        return self\n",
        "\n",
        "# Method chaining\n",
        "p = Person(\"Prachi\").set_age(25).set_city(\"Mumbai\").show()\n"
      ],
      "metadata": {
        "colab": {
          "base_uri": "https://localhost:8080/"
        },
        "id": "kOALygqS1wYU",
        "outputId": "16e42642-f897-4b64-f431-29d926fe9451"
      },
      "execution_count": 17,
      "outputs": [
        {
          "output_type": "stream",
          "name": "stdout",
          "text": [
            "Name: Prachi, Age: 25, City: Mumbai\n"
          ]
        }
      ]
    },
    {
      "cell_type": "markdown",
      "source": [
        "25. What is the purpose of the __call__ method in Python?\n",
        "--> The __call__ method in Python allows an instance of a class to be called like a function.\n",
        "- If a class defines __call__, then you can use its object as if it were a function."
      ],
      "metadata": {
        "id": "PvGdGDjm198s"
      }
    },
    {
      "cell_type": "code",
      "source": [
        "# Example of call method :\n",
        "class Greet:\n",
        "    def __init__(self, name):\n",
        "        self.name = name\n",
        "\n",
        "    def __call__(self):\n",
        "        print(f\"Hello, {self.name}!\")\n",
        "\n",
        "g = Greet(\"Prachi\")\n",
        "g()  # Output: Hello, Alice!\n"
      ],
      "metadata": {
        "colab": {
          "base_uri": "https://localhost:8080/"
        },
        "id": "_rS8TLMX2I6x",
        "outputId": "00dcb9ca-6eb9-479b-bb51-772e13c451e4"
      },
      "execution_count": 19,
      "outputs": [
        {
          "output_type": "stream",
          "name": "stdout",
          "text": [
            "Hello, Prachi!\n"
          ]
        }
      ]
    },
    {
      "cell_type": "markdown",
      "source": [
        "# **Theory Questions**"
      ],
      "metadata": {
        "id": "uYmQOOPn2YsT"
      }
    },
    {
      "cell_type": "markdown",
      "source": [
        "1.  Create a parent class Animal with a method speak() that prints a generic message. Create a child class Dog that overrides the speak() method to print \"Bark!\"."
      ],
      "metadata": {
        "id": "S93Jb_em2dtN"
      }
    },
    {
      "cell_type": "code",
      "source": [
        "# Parent class\n",
        "class Animal:\n",
        "    def speak(self):\n",
        "        print(\"Animal makes a sound\")\n",
        "\n",
        "# Child class\n",
        "class Dog(Animal):\n",
        "    def speak(self):\n",
        "        print(\"Bark!\")\n",
        "\n",
        "# Create instances\n",
        "a = Animal()\n",
        "d = Dog()\n",
        "\n",
        "# Call speak method\n",
        "a.speak()  # Output: Animal makes a sound\n",
        "d.speak()  # Output: Bark!\n"
      ],
      "metadata": {
        "colab": {
          "base_uri": "https://localhost:8080/"
        },
        "id": "n3MEKGEc2i2-",
        "outputId": "4a95c5be-14e7-4fed-dbc4-8dfbf29a7bfa"
      },
      "execution_count": 20,
      "outputs": [
        {
          "output_type": "stream",
          "name": "stdout",
          "text": [
            "Animal makes a sound\n",
            "Bark!\n"
          ]
        }
      ]
    },
    {
      "cell_type": "markdown",
      "source": [
        "2.  Write a program to create an abstract class Shape with a method area(). Derive classes Circle and Rectangle from it and implement the area() method in both."
      ],
      "metadata": {
        "id": "GC3tDlB_2zkn"
      }
    },
    {
      "cell_type": "code",
      "source": [
        "from abc import ABC, abstractmethod\n",
        "import math\n",
        "\n",
        "# Abstract base class\n",
        "class Shape(ABC):\n",
        "    @abstractmethod\n",
        "    def area(self):\n",
        "        pass\n",
        "\n",
        "# Circle class\n",
        "class Circle(Shape):\n",
        "    def __init__(self, radius):\n",
        "        self.radius = radius\n",
        "\n",
        "    def area(self):\n",
        "        return math.pi * self.radius ** 2\n",
        "\n",
        "# Rectangle class\n",
        "class Rectangle(Shape):\n",
        "    def __init__(self, width, height):\n",
        "        self.width = width\n",
        "        self.height = height\n",
        "\n",
        "    def area(self):\n",
        "        return self.width * self.height\n",
        "\n",
        "# Create objects and display area\n",
        "circle = Circle(5)\n",
        "rectangle = Rectangle(4, 6)\n",
        "\n",
        "print(f\"Circle Area: {circle.area():.2f}\")       # Output: Circle Area: 78.54\n",
        "print(f\"Rectangle Area: {rectangle.area()}\")    # Output: Rectangle Area: 24\n"
      ],
      "metadata": {
        "colab": {
          "base_uri": "https://localhost:8080/"
        },
        "id": "9WQPCdFR23XM",
        "outputId": "6e1cf51e-bb09-42a1-c2d1-7358c87ded20"
      },
      "execution_count": 23,
      "outputs": [
        {
          "output_type": "stream",
          "name": "stdout",
          "text": [
            "Circle Area: 78.54\n",
            "Rectangle Area: 24\n"
          ]
        }
      ]
    },
    {
      "cell_type": "markdown",
      "source": [
        "3.  Implement a multi-level inheritance scenario where a class Vehicle has an attribute type. Derive a class Car and further derive a class ElectricCar that adds a battery attribute."
      ],
      "metadata": {
        "id": "FzOP7gaj3Ip-"
      }
    },
    {
      "cell_type": "code",
      "source": [
        "# Base class\n",
        "class Vehicle:\n",
        "    def __init__(self, vehicle_type):\n",
        "        self.vehicle_type = vehicle_type\n",
        "\n",
        "    def display_type(self):\n",
        "        print(f\"Vehicle Type: {self.vehicle_type}\")\n",
        "\n",
        "# First derived class\n",
        "class Car(Vehicle):\n",
        "    def __init__(self, vehicle_type, brand):\n",
        "        super().__init__(vehicle_type)\n",
        "        self.brand = brand\n",
        "\n",
        "    def display_brand(self):\n",
        "        print(f\"Car Brand: {self.brand}\")\n",
        "\n",
        "# Second derived class (multi-level inheritance)\n",
        "class ElectricCar(Car):\n",
        "    def __init__(self, vehicle_type, brand, battery_capacity):\n",
        "        super().__init__(vehicle_type, brand)\n",
        "        self.battery_capacity = battery_capacity\n",
        "\n",
        "    def display_battery(self):\n",
        "        print(f\"Battery Capacity: {self.battery_capacity} kWh\")\n",
        "\n",
        "# Create an object of ElectricCar\n",
        "tesla = ElectricCar(\"Four-Wheeler\", \"Tesla\", 75)\n",
        "\n",
        "# Call methods from all levels of the inheritance chain\n",
        "tesla.display_type()       # From Vehicle\n",
        "tesla.display_brand()      # From Car\n",
        "tesla.display_battery()    # From ElectricCar\n"
      ],
      "metadata": {
        "colab": {
          "base_uri": "https://localhost:8080/"
        },
        "id": "nIoa09lm3NJV",
        "outputId": "9b7be2fd-44bb-46a1-fb74-8ac528b99f43"
      },
      "execution_count": 24,
      "outputs": [
        {
          "output_type": "stream",
          "name": "stdout",
          "text": [
            "Vehicle Type: Four-Wheeler\n",
            "Car Brand: Tesla\n",
            "Battery Capacity: 75 kWh\n"
          ]
        }
      ]
    },
    {
      "cell_type": "markdown",
      "source": [
        "4. Demonstrate polymorphism by creating a base class Bird with a method fly(). Create two derived classes Sparrow and Penguin that override the fly() method.\n"
      ],
      "metadata": {
        "id": "rdLeaFbM3iM-"
      }
    },
    {
      "cell_type": "code",
      "source": [
        "# Base class\n",
        "class Bird:\n",
        "    def fly(self):\n",
        "        print(\"Birds can fly.\")\n",
        "\n",
        "# Derived class 1\n",
        "class Sparrow(Bird):\n",
        "    def fly(self):\n",
        "        print(\"Sparrow flies high in the sky.\")\n",
        "\n",
        "# Derived class 2\n",
        "class Penguin(Bird):\n",
        "    def fly(self):\n",
        "        print(\"Penguins cannot fly, they swim.\")\n",
        "\n",
        "# Polymorphism in action\n",
        "def bird_flight(bird):\n",
        "    bird.fly()  # Calls the appropriate fly() based on the object type\n",
        "\n",
        "# Create objects\n",
        "sparrow = Sparrow()\n",
        "penguin = Penguin()\n",
        "\n",
        "# Call the function with different bird types\n",
        "bird_flight(sparrow)  # Output: Sparrow flies high in the sky.\n",
        "bird_flight(penguin)  # Output: Penguins cannot fly, they swim.\n"
      ],
      "metadata": {
        "colab": {
          "base_uri": "https://localhost:8080/"
        },
        "id": "I9gpy0k53sAk",
        "outputId": "2de5f41b-4117-4c2c-e457-8504b7689ed1"
      },
      "execution_count": 25,
      "outputs": [
        {
          "output_type": "stream",
          "name": "stdout",
          "text": [
            "Sparrow flies high in the sky.\n",
            "Penguins cannot fly, they swim.\n"
          ]
        }
      ]
    },
    {
      "cell_type": "markdown",
      "source": [
        "5. Write a program to demonstrate encapsulation by creating a class BankAccount with private attributes balance and methods to deposit, withdraw, and check balance."
      ],
      "metadata": {
        "id": "SQU5nXU63wFo"
      }
    },
    {
      "cell_type": "code",
      "source": [
        "class BankAccount:\n",
        "    def __init__(self, account_holder, initial_balance=0):\n",
        "        self.account_holder = account_holder\n",
        "        self.__balance = initial_balance  # Private attribute\n",
        "\n",
        "    # Public method to deposit money\n",
        "    def deposit(self, amount):\n",
        "        if amount > 0:\n",
        "            self.__balance += amount\n",
        "            print(f\"Deposited ₹{amount}\")\n",
        "        else:\n",
        "            print(\"Deposit amount must be positive.\")\n",
        "\n",
        "    # Public method to withdraw money\n",
        "    def withdraw(self, amount):\n",
        "        if amount <= 0:\n",
        "            print(\"Withdrawal amount must be positive.\")\n",
        "        elif amount > self.__balance:\n",
        "            print(\"Insufficient balance.\")\n",
        "        else:\n",
        "            self.__balance -= amount\n",
        "            print(f\"Withdrew ₹{amount}\")\n",
        "\n",
        "    # Public method to check balance\n",
        "    def check_balance(self):\n",
        "        print(f\"Current Balance: ₹{self.__balance}\")\n",
        "\n",
        "\n",
        "# 🔹 Create an object and test\n",
        "account = BankAccount(\"Alice\", 1000)\n",
        "\n",
        "account.check_balance()    # Output: Current Balance: ₹1000\n",
        "account.deposit(500)       # Output: Deposited ₹500\n",
        "account.withdraw(300)      # Output: Withdrew ₹300\n",
        "account.check_balance()    # Output: Current Balance: ₹1200\n",
        "\n",
        "# 🔒 Attempt to access private attribute directly\n",
        "try:\n",
        "    print(account.__balance)  # This will raise an AttributeError\n",
        "except AttributeError:\n",
        "    print(\"Cannot access private attribute 'balance' directly.\")\n",
        "\n"
      ],
      "metadata": {
        "colab": {
          "base_uri": "https://localhost:8080/"
        },
        "id": "yUWVKNcu30RO",
        "outputId": "c67a4a80-b6d1-4c3e-bbb8-4a6f9745eaab"
      },
      "execution_count": 28,
      "outputs": [
        {
          "output_type": "stream",
          "name": "stdout",
          "text": [
            "Current Balance: ₹1000\n",
            "Deposited ₹500\n",
            "Withdrew ₹300\n",
            "Current Balance: ₹1200\n",
            "Cannot access private attribute 'balance' directly.\n"
          ]
        }
      ]
    },
    {
      "cell_type": "markdown",
      "source": [
        "6. Demonstrate runtime polymorphism using a method play() in a base class Instrument. Derive classes Guitar and Piano that implement their own version of play()."
      ],
      "metadata": {
        "id": "JUxrLXgr4Wnz"
      }
    },
    {
      "cell_type": "code",
      "source": [
        "# Base class\n",
        "class Instrument:\n",
        "    def play(self):\n",
        "        print(\"Instrument is playing...\")\n",
        "\n",
        "# Derived class 1\n",
        "class Guitar(Instrument):\n",
        "    def play(self):\n",
        "        print(\"Guitar is strumming!\")\n",
        "\n",
        "# Derived class 2\n",
        "class Piano(Instrument):\n",
        "    def play(self):\n",
        "        print(\"Piano is playing keys!\")\n",
        "\n",
        "# Function that uses polymorphism\n",
        "def play_instrument(instrument):\n",
        "    instrument.play()  # Calls the correct play() method at runtime\n",
        "\n",
        "# Create objects\n",
        "inst = Instrument()\n",
        "guitar = Guitar()\n",
        "piano = Piano()\n",
        "\n",
        "# Demonstrate runtime polymorphism\n",
        "play_instrument(inst)    # Output: Instrument is playing...\n",
        "play_instrument(guitar)  # Output: Guitar is strumming!\n",
        "play_instrument(piano)   # Output: Piano is playing keys!\n"
      ],
      "metadata": {
        "colab": {
          "base_uri": "https://localhost:8080/"
        },
        "id": "v_aTUBUI4ZQR",
        "outputId": "884e9845-512c-4585-c9f1-0ecc7177d503"
      },
      "execution_count": 29,
      "outputs": [
        {
          "output_type": "stream",
          "name": "stdout",
          "text": [
            "Instrument is playing...\n",
            "Guitar is strumming!\n",
            "Piano is playing keys!\n"
          ]
        }
      ]
    },
    {
      "cell_type": "markdown",
      "source": [
        "7. Create a class MathOperations with a class method add_numbers() to add two numbers and a static method subtract_numbers() to subtract two numbers."
      ],
      "metadata": {
        "id": "smuNqPRq4sjm"
      }
    },
    {
      "cell_type": "code",
      "source": [
        "class MathOperations:\n",
        "\n",
        "    @classmethod\n",
        "    def add_numbers(cls, a, b):\n",
        "        return a + b\n",
        "\n",
        "    @staticmethod\n",
        "    def subtract_numbers(a, b):\n",
        "        return a - b\n",
        "\n",
        "# Using the class method\n",
        "sum_result = MathOperations.add_numbers(10, 5)\n",
        "print(f\"Sum: {sum_result}\")  # Output: Sum: 15\n",
        "\n",
        "# Using the static method\n",
        "diff_result = MathOperations.subtract_numbers(10, 5)\n",
        "print(f\"Difference: {diff_result}\")  # Output: Difference: 5\n"
      ],
      "metadata": {
        "colab": {
          "base_uri": "https://localhost:8080/"
        },
        "id": "YVc1_k6p4w6W",
        "outputId": "acb4a23d-7c26-455a-97b0-ac1500ecc24c"
      },
      "execution_count": 30,
      "outputs": [
        {
          "output_type": "stream",
          "name": "stdout",
          "text": [
            "Sum: 15\n",
            "Difference: 5\n"
          ]
        }
      ]
    },
    {
      "cell_type": "markdown",
      "source": [
        "8.  Implement a class Person with a class method to count the total number of persons created."
      ],
      "metadata": {
        "id": "VKyiAOLA48JO"
      }
    },
    {
      "cell_type": "code",
      "source": [
        "class Person:\n",
        "    count = 0  # Class variable to track number of persons\n",
        "\n",
        "    def __init__(self, name):\n",
        "        self.name = name\n",
        "        Person.count += 1  # Increment count when a new object is created\n",
        "\n",
        "    @classmethod\n",
        "    def total_persons(cls):\n",
        "        print(f\"Total Persons Created: {cls.count}\")\n",
        "\n",
        "# Creating Person objects\n",
        "p1 = Person(\"Prachi\")\n",
        "p2 = Person(\"Yashvi\")\n",
        "p3 = Person(\"Suraj\")\n",
        "\n",
        "# Call class method to check total persons\n",
        "Person.total_persons()  # Output: Total Persons Created: 3\n"
      ],
      "metadata": {
        "colab": {
          "base_uri": "https://localhost:8080/"
        },
        "id": "K0CdD_gH4_q4",
        "outputId": "aef98ca1-eb13-4071-c1b9-8c0ec0319be6"
      },
      "execution_count": 32,
      "outputs": [
        {
          "output_type": "stream",
          "name": "stdout",
          "text": [
            "Total Persons Created: 3\n"
          ]
        }
      ]
    },
    {
      "cell_type": "markdown",
      "source": [
        "9.  Write a class Fraction with attributes numerator and denominator. Override the str method to display the fraction as \"numerator/denominator\"."
      ],
      "metadata": {
        "id": "F3Grt6Ah5MwO"
      }
    },
    {
      "cell_type": "code",
      "source": [
        "class Fraction:\n",
        "    def __init__(self, numerator, denominator):\n",
        "        self.numerator = numerator\n",
        "        self.denominator = denominator\n",
        "\n",
        "    def __str__(self):\n",
        "        return f\"{self.numerator}/{self.denominator}\"\n",
        "\n",
        "# Create Fraction objects\n",
        "f1 = Fraction(3, 4)\n",
        "f2 = Fraction(5, 8)\n",
        "\n",
        "# Print the objects\n",
        "print(f1)  # Output: 3/4\n",
        "print(f2)  # Output: 5/8\n"
      ],
      "metadata": {
        "colab": {
          "base_uri": "https://localhost:8080/"
        },
        "id": "Io4AE09i5QvO",
        "outputId": "8a740af3-3272-4664-a998-7ba1f8ec83f9"
      },
      "execution_count": 33,
      "outputs": [
        {
          "output_type": "stream",
          "name": "stdout",
          "text": [
            "3/4\n",
            "5/8\n"
          ]
        }
      ]
    },
    {
      "cell_type": "markdown",
      "source": [
        "10.  Demonstrate operator overloading by creating a class Vector and overriding the add method to add two vectors."
      ],
      "metadata": {
        "id": "lUDGkOtD5YGX"
      }
    },
    {
      "cell_type": "code",
      "source": [
        "class Vector:\n",
        "    def __init__(self, x, y):\n",
        "        self.x = x\n",
        "        self.y = y\n",
        "\n",
        "    # Override the + operator\n",
        "    def __add__(self, other):\n",
        "        return Vector(self.x + other.x, self.y + other.y)\n",
        "\n",
        "    # For user-friendly display\n",
        "    def __str__(self):\n",
        "        return f\"({self.x}, {self.y})\"\n",
        "\n",
        "# Create two Vector objects\n",
        "v1 = Vector(2, 3)\n",
        "v2 = Vector(4, 5)\n",
        "\n",
        "# Add vectors using +\n",
        "result = v1 + v2\n",
        "\n",
        "# Display result\n",
        "print(\"v1 + v2 =\", result)  # Output: v1 + v2 = (6, 8)\n"
      ],
      "metadata": {
        "colab": {
          "base_uri": "https://localhost:8080/"
        },
        "id": "e-izkqAp5dNp",
        "outputId": "35714ebb-fb0a-4e16-b56e-5644582dd212"
      },
      "execution_count": 34,
      "outputs": [
        {
          "output_type": "stream",
          "name": "stdout",
          "text": [
            "v1 + v2 = (6, 8)\n"
          ]
        }
      ]
    },
    {
      "cell_type": "markdown",
      "source": [
        "11. Create a class Person with attributes name and age. Add a method greet() that prints \"Hello, my name is {name} and I am {age} years old.\""
      ],
      "metadata": {
        "id": "pwsO6UMG5mAR"
      }
    },
    {
      "cell_type": "code",
      "source": [
        "class Person:\n",
        "    def __init__(self, name, age):\n",
        "        self.name = name\n",
        "        self.age = age\n",
        "\n",
        "    def greet(self):\n",
        "        print(f\"Hello, my name is {self.name} and I am {self.age} years old.\")\n",
        "\n",
        "# Create a Person object\n",
        "p1 = Person(\"Prachi\", 20)\n",
        "\n",
        "# Call the greet method\n",
        "p1.greet()  # Output: Hello, my name is Alice and I am 25 years old.\n"
      ],
      "metadata": {
        "colab": {
          "base_uri": "https://localhost:8080/"
        },
        "id": "1X8D9q7e5t1q",
        "outputId": "88b417ae-8d0a-45e3-fa38-9fe16fea658d"
      },
      "execution_count": 36,
      "outputs": [
        {
          "output_type": "stream",
          "name": "stdout",
          "text": [
            "Hello, my name is Prachi and I am 20 years old.\n"
          ]
        }
      ]
    },
    {
      "cell_type": "markdown",
      "source": [
        "12.  Implement a class Student with attributes name and grades. Create a method average_grade() to compute  the average of the grades."
      ],
      "metadata": {
        "id": "XbZmFYG3522z"
      }
    },
    {
      "cell_type": "code",
      "source": [
        "class Student:\n",
        "    def __init__(self, name, grades):\n",
        "        self.name = name\n",
        "        self.grades = grades  # List of grades\n",
        "\n",
        "    def average_grade(self):\n",
        "        if self.grades:\n",
        "            avg = sum(self.grades) / len(self.grades)\n",
        "            return avg\n",
        "        else:\n",
        "            return 0.0\n",
        "\n",
        "# Create a Student object\n",
        "s1 = Student(\"Prachi\", [95, 90, 98, 95])\n",
        "\n",
        "# Compute and display average grade\n",
        "print(f\"{s1.name}'s average grade is: {s1.average_grade():.2f}\")\n"
      ],
      "metadata": {
        "colab": {
          "base_uri": "https://localhost:8080/"
        },
        "id": "z98Rf8FN5-AU",
        "outputId": "17497fe2-5fca-45e8-dda7-71906a489e18"
      },
      "execution_count": 40,
      "outputs": [
        {
          "output_type": "stream",
          "name": "stdout",
          "text": [
            "Prachi's average grade is: 94.50\n"
          ]
        }
      ]
    },
    {
      "cell_type": "markdown",
      "source": [
        "13. Create a class Rectangle with methods set_dimensions() to set the dimensions and area() to calculate the\n",
        "area."
      ],
      "metadata": {
        "id": "Y9o0MDPn6N-n"
      }
    },
    {
      "cell_type": "code",
      "source": [
        "class Rectangle:\n",
        "    def __init__(self):\n",
        "        self.length = 0\n",
        "        self.width = 0\n",
        "\n",
        "    def set_dimensions(self, length, width):\n",
        "        self.length = length\n",
        "        self.width = width\n",
        "\n",
        "    def area(self):\n",
        "        return self.length * self.width\n",
        "\n",
        "# Create a Rectangle object\n",
        "rect = Rectangle()\n",
        "\n",
        "# Set dimensions\n",
        "rect.set_dimensions(5, 8)\n",
        "\n",
        "# Calculate and display area\n",
        "print(f\"Area of the rectangle is: {rect.area()}\")  # Output: 40\n"
      ],
      "metadata": {
        "colab": {
          "base_uri": "https://localhost:8080/"
        },
        "id": "U51pD_js6Siv",
        "outputId": "f930f860-4f6b-4b52-a84a-24db4cd2911a"
      },
      "execution_count": 43,
      "outputs": [
        {
          "output_type": "stream",
          "name": "stdout",
          "text": [
            "Area of the rectangle is: 40\n"
          ]
        }
      ]
    },
    {
      "cell_type": "markdown",
      "source": [
        "14. Create a class Employee with a method calculate_salary() that computes the salary based on hours worked and hourly rate. Create a derived class Manager that adds a bonus to the salary."
      ],
      "metadata": {
        "id": "Tk5dEx_T6eYf"
      }
    },
    {
      "cell_type": "code",
      "source": [
        "# Base class\n",
        "class Employee:\n",
        "    def __init__(self, name, hours_worked, hourly_rate):\n",
        "        self.name = name\n",
        "        self.hours_worked = hours_worked\n",
        "        self.hourly_rate = hourly_rate\n",
        "\n",
        "    def calculate_salary(self):\n",
        "        return self.hours_worked * self.hourly_rate\n",
        "\n",
        "# Derived class\n",
        "class Manager(Employee):\n",
        "    def __init__(self, name, hours_worked, hourly_rate, bonus):\n",
        "        super().__init__(name, hours_worked, hourly_rate)\n",
        "        self.bonus = bonus\n",
        "\n",
        "    def calculate_salary(self):\n",
        "        base_salary = super().calculate_salary()\n",
        "        return base_salary + self.bonus\n",
        "\n",
        "# Create Employee and Manager objects\n",
        "emp = Employee(\"Prachi\", 40, 30)\n",
        "mgr = Manager(\"Suraj\", 45, 30, 500)\n",
        "\n",
        "# Calculate and print salaries\n",
        "print(f\"{emp.name}'s salary: ₹{emp.calculate_salary()}\")\n",
        "print(f\"{mgr.name}'s salary (with bonus): ₹{mgr.calculate_salary()}\")\n"
      ],
      "metadata": {
        "colab": {
          "base_uri": "https://localhost:8080/"
        },
        "id": "jCcY69dn6i6H",
        "outputId": "a3d5ba64-4b9e-442a-d9be-daf8632a7917"
      },
      "execution_count": 46,
      "outputs": [
        {
          "output_type": "stream",
          "name": "stdout",
          "text": [
            "Prachi's salary: ₹1200\n",
            "Suraj's salary (with bonus): ₹1850\n"
          ]
        }
      ]
    },
    {
      "cell_type": "markdown",
      "source": [
        "15.  Create a class Product with attributes name, price, and quantity. Implement a method total_price() that calculates the total price of the product."
      ],
      "metadata": {
        "id": "mT4LCFVS61PJ"
      }
    },
    {
      "cell_type": "code",
      "source": [
        "class Product:\n",
        "    def __init__(self, name, price, quantity):\n",
        "        self.name = name\n",
        "        self.price = price\n",
        "        self.quantity = quantity\n",
        "\n",
        "    def total_price(self):\n",
        "        return self.price * self.quantity\n",
        "\n",
        "# Create a Product object\n",
        "product = Product(\"Laptop\", 50000, 2)\n",
        "\n",
        "# Calculate and display total price\n",
        "print(f\"Total price for {product.name}: ₹{product.total_price()}\")\n"
      ],
      "metadata": {
        "colab": {
          "base_uri": "https://localhost:8080/"
        },
        "id": "L4ogVsq566sl",
        "outputId": "4bc82f87-e2c7-438b-d0f1-d0d5ecacc558"
      },
      "execution_count": 47,
      "outputs": [
        {
          "output_type": "stream",
          "name": "stdout",
          "text": [
            "Total price for Laptop: ₹100000\n"
          ]
        }
      ]
    },
    {
      "cell_type": "markdown",
      "source": [
        "16.  Create a class Animal with an abstract method sound(). Create two derived classes Cow and Sheep that implement the sound() method."
      ],
      "metadata": {
        "id": "RrRFf-9o7BRm"
      }
    },
    {
      "cell_type": "code",
      "source": [
        "from abc import ABC, abstractmethod\n",
        "# Abstract base class\n",
        "class Animal(ABC):\n",
        "    @abstractmethod\n",
        "    def sound(self):\n",
        "        pass\n",
        "# Derived class Cow\n",
        "class Cow(Animal):\n",
        "    def sound(self):\n",
        "        print(\"Cow says Moo!\")\n",
        "# Derived class Sheep\n",
        "class Sheep(Animal):\n",
        "    def sound(self):\n",
        "        print(\"Sheep says Baa!\")\n",
        "# Create objects and call their sound method\n",
        "cow = Cow()\n",
        "sheep = Sheep()\n",
        "\n",
        "cow.sound()    # Output: Cow says Moo!\n",
        "sheep.sound()  # Output: Sheep says Baa!\n"
      ],
      "metadata": {
        "colab": {
          "base_uri": "https://localhost:8080/"
        },
        "id": "ONaXDzA37FVD",
        "outputId": "dc0b1281-c097-48c5-9216-a0b3809a354f"
      },
      "execution_count": 49,
      "outputs": [
        {
          "output_type": "stream",
          "name": "stdout",
          "text": [
            "Cow says Moo!\n",
            "Sheep says Baa!\n"
          ]
        }
      ]
    },
    {
      "cell_type": "markdown",
      "source": [
        "17. Create a class Book with attributes title, author, and year_published. Add a method get_book_info() that returns a formatted string with the book's details."
      ],
      "metadata": {
        "id": "--cilERR7QH1"
      }
    },
    {
      "cell_type": "code",
      "source": [
        "class Book:\n",
        "    def __init__(self, title, author, year_published):\n",
        "        self.title = title\n",
        "        self.author = author\n",
        "        self.year_published = year_published\n",
        "\n",
        "    def get_book_info(self):\n",
        "        return f\"'{self.title}' by {self.author}, published in {self.year_published}\"\n",
        "\n",
        "# Create a Book object\n",
        "book1 = Book(\"To Kill a Mockingbird\", \"Harper Lee\", 1960)\n",
        "\n",
        "# Get and print book info\n",
        "print(book1.get_book_info())\n"
      ],
      "metadata": {
        "colab": {
          "base_uri": "https://localhost:8080/"
        },
        "id": "vx0etmH07Zjb",
        "outputId": "0b905ba1-8275-42bc-e29b-5ee6d77752f5"
      },
      "execution_count": 50,
      "outputs": [
        {
          "output_type": "stream",
          "name": "stdout",
          "text": [
            "'To Kill a Mockingbird' by Harper Lee, published in 1960\n"
          ]
        }
      ]
    },
    {
      "cell_type": "markdown",
      "source": [
        "18.  Create a class House with attributes address and price. Create a derived class Mansion that adds an attribute number_of_rooms."
      ],
      "metadata": {
        "id": "2RO_Bqs97kLY"
      }
    },
    {
      "cell_type": "code",
      "source": [
        "# Base class\n",
        "class House:\n",
        "    def __init__(self, address, price):\n",
        "        self.address = address\n",
        "        self.price = price\n",
        "\n",
        "    def display_info(self):\n",
        "        print(f\"Address: {self.address}\")\n",
        "        print(f\"Price: ₹{self.price}\")\n",
        "\n",
        "# Derived class\n",
        "class Mansion(House):\n",
        "    def __init__(self, address, price, number_of_rooms):\n",
        "        super().__init__(address, price)\n",
        "        self.number_of_rooms = number_of_rooms\n",
        "\n",
        "    def display_info(self):\n",
        "        super().display_info()\n",
        "        print(f\"Number of Rooms: {self.number_of_rooms}\")\n",
        "\n",
        "# Create a Mansion object\n",
        "m = Mansion(\"123 Luxury Lane\", 50000000, 10)\n",
        "\n",
        "# Display mansion details\n",
        "m.display_info()\n"
      ],
      "metadata": {
        "colab": {
          "base_uri": "https://localhost:8080/"
        },
        "id": "f9ws4Ofw7oaS",
        "outputId": "35da75ea-fd17-46bd-8b54-54db8e99f1c0"
      },
      "execution_count": 51,
      "outputs": [
        {
          "output_type": "stream",
          "name": "stdout",
          "text": [
            "Address: 123 Luxury Lane\n",
            "Price: ₹50000000\n",
            "Number of Rooms: 10\n"
          ]
        }
      ]
    }
  ]
}